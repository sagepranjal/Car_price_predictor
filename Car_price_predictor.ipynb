{
  "nbformat": 4,
  "nbformat_minor": 0,
  "metadata": {
    "colab": {
      "name": "Car_price-predictor.ipynb",
      "private_outputs": true,
      "provenance": [],
      "authorship_tag": "ABX9TyMg77aDelybUkaLIGvKYtor",
      "include_colab_link": true
    },
    "kernelspec": {
      "name": "python3",
      "display_name": "Python 3"
    },
    "language_info": {
      "name": "python"
    },
    "accelerator": "TPU"
  },
  "cells": [
    {
      "cell_type": "markdown",
      "metadata": {
        "id": "view-in-github",
        "colab_type": "text"
      },
      "source": [
        "<a href=\"https://colab.research.google.com/github/sagepranjal/Car_price_predictor/blob/main/Car_price_predictor.ipynb\" target=\"_parent\"><img src=\"https://colab.research.google.com/assets/colab-badge.svg\" alt=\"Open In Colab\"/></a>"
      ]
    },
    {
      "cell_type": "markdown",
      "metadata": {
        "id": "hG06naneQm3q"
      },
      "source": [
        "### Imported Libraries"
      ]
    },
    {
      "cell_type": "code",
      "metadata": {
        "id": "K0OekY0uQdJT"
      },
      "source": [
        "import pandas as pd\n",
        "import seaborn as sns\n",
        "import matplotlib.pyplot as plt\n",
        "from sklearn.ensemble import ExtraTreesRegressor\n",
        "from sklearn.model_selection import train_test_split\n",
        "from sklearn.ensemble import RandomForestRegressor\n",
        "import numpy as np\n",
        "from sklearn.model_selection import RandomizedSearchCV\n",
        "from sklearn import metrics"
      ],
      "execution_count": null,
      "outputs": []
    },
    {
      "cell_type": "code",
      "metadata": {
        "id": "ybVstURQi99T"
      },
      "source": [
        ""
      ],
      "execution_count": null,
      "outputs": []
    },
    {
      "cell_type": "markdown",
      "metadata": {
        "id": "9S0f3B12SY3h"
      },
      "source": [
        "# Import the datset"
      ]
    },
    {
      "cell_type": "code",
      "metadata": {
        "id": "UWtbwH56Qx8Z"
      },
      "source": [
        "from google.colab import drive\n",
        "\n",
        "drive.mount('/content/drive')\n"
      ],
      "execution_count": null,
      "outputs": []
    },
    {
      "cell_type": "code",
      "metadata": {
        "id": "YmGw9sNGUA2i"
      },
      "source": [
        "df=pd.read_csv('/content/drive/MyDrive/Datasets/car_dekho.csv')"
      ],
      "execution_count": null,
      "outputs": []
    },
    {
      "cell_type": "code",
      "metadata": {
        "id": "_XTbVGZmVP97"
      },
      "source": [
        "df.head()\n"
      ],
      "execution_count": null,
      "outputs": []
    },
    {
      "cell_type": "code",
      "metadata": {
        "id": "91zQNt-QW_4Q"
      },
      "source": [
        "df.shape\n",
        "df.columns"
      ],
      "execution_count": null,
      "outputs": []
    },
    {
      "cell_type": "markdown",
      "metadata": {
        "id": "aPxkEvc4Znzf"
      },
      "source": [
        "Checking the unique values"
      ]
    },
    {
      "cell_type": "code",
      "metadata": {
        "id": "RCWFVLeTYSLq"
      },
      "source": [
        "print(df['seller_type'].unique())\n",
        "print(df['fuel'].unique())\n",
        "print(df['transmission'].unique())\n",
        "print(df['owner'].unique())\n"
      ],
      "execution_count": null,
      "outputs": []
    },
    {
      "cell_type": "markdown",
      "metadata": {
        "id": "J3kjgDrbZtgH"
      },
      "source": [
        "Creating the final dataset"
      ]
    },
    {
      "cell_type": "code",
      "metadata": {
        "id": "iixqXH5IZa2S"
      },
      "source": [
        "final_dataset = df[[ 'year', 'selling_price', 'km_driven', 'fuel', 'seller_type',\n",
        "       'transmission', 'owner']]"
      ],
      "execution_count": null,
      "outputs": []
    },
    {
      "cell_type": "code",
      "metadata": {
        "id": "aVIxiHptZN5q"
      },
      "source": [
        "final_dataset.head()"
      ],
      "execution_count": null,
      "outputs": []
    },
    {
      "cell_type": "code",
      "metadata": {
        "id": "M8jvcLOVZ7Hj"
      },
      "source": [
        "final_dataset['Current_year']=2020\n",
        "final_dataset['no_years']=final_dataset['Current_year']-final_dataset['year']\n",
        "final_dataset.head()\n"
      ],
      "execution_count": null,
      "outputs": []
    },
    {
      "cell_type": "code",
      "metadata": {
        "id": "4wChi2cna1ri"
      },
      "source": [
        "final_dataset.drop(['Current_year'],axis=1,inplace=True)\n",
        "final_dataset.drop(['year'],axis=1,inplace=True)\n",
        "final_dataset.head()"
      ],
      "execution_count": null,
      "outputs": []
    },
    {
      "cell_type": "code",
      "metadata": {
        "id": "UeC9t9LoeGTe"
      },
      "source": [
        "final_dataset=pd.get_dummies(final_dataset,drop_first=True)\n",
        "final_dataset.head()"
      ],
      "execution_count": null,
      "outputs": []
    },
    {
      "cell_type": "markdown",
      "metadata": {
        "id": "poMH7386kq4v"
      },
      "source": [
        "correlation matrix"
      ]
    },
    {
      "cell_type": "code",
      "metadata": {
        "id": "xKYDsOJKh6-l"
      },
      "source": [
        "final_dataset.corr()"
      ],
      "execution_count": null,
      "outputs": []
    },
    {
      "cell_type": "markdown",
      "metadata": {
        "id": "Bo3c1raPku2O"
      },
      "source": [
        "plotting the heat map"
      ]
    },
    {
      "cell_type": "code",
      "metadata": {
        "id": "MgYmEwl4i_nq"
      },
      "source": [
        "mat = final_dataset.corr()\n",
        "top_features = mat.index\n",
        "plt.figure(figsize=(15,15))\n",
        "g= sns.heatmap(final_dataset[top_features].corr(),annot=True,cmap=\"RdYlGn\")"
      ],
      "execution_count": null,
      "outputs": []
    },
    {
      "cell_type": "markdown",
      "metadata": {
        "id": "FbLHr_QWQcnB"
      },
      "source": [
        "# Independent and dependent features"
      ]
    },
    {
      "cell_type": "code",
      "metadata": {
        "id": "64ReUmOVlMUo"
      },
      "source": [
        "X= final_dataset.iloc[:,1:]\n",
        "Y=final_dataset.iloc[:,0] "
      ],
      "execution_count": null,
      "outputs": []
    },
    {
      "cell_type": "markdown",
      "metadata": {
        "id": "AJL1zs55RnZk"
      },
      "source": [
        "# Feature  importance"
      ]
    },
    {
      "cell_type": "code",
      "metadata": {
        "id": "jfQRBFSaRMqX"
      },
      "source": [
        "model = ExtraTreesRegressor()\n",
        "model.fit(X,Y)\n",
        "\n",
        "print(model.feature_importances_)"
      ],
      "execution_count": null,
      "outputs": []
    },
    {
      "cell_type": "code",
      "metadata": {
        "id": "1BPVfXbXc7WQ"
      },
      "source": [
        "from sklearn.model_selection import train_test_split\n",
        "X_train, X_test, y_train, y_test = train_test_split(X, Y, test_size=0.3, random_state=0)"
      ],
      "execution_count": null,
      "outputs": []
    },
    {
      "cell_type": "code",
      "metadata": {
        "id": "3il3UiY_c7ee"
      },
      "source": [
        "#Randomized Search CV\n",
        "\n",
        "# Number of trees in random forest\n",
        "n_estimators = [int(x) for x in np.linspace(start = 100, stop = 1200, num = 12)]\n",
        "# Number of features to consider at every split\n",
        "max_features = ['auto', 'sqrt']\n",
        "# Maximum number of levels in tree\n",
        "max_depth = [int(x) for x in np.linspace(5, 30, num = 6)]\n",
        "# max_depth.append(None)\n",
        "# Minimum number of samples required to split a node\n",
        "min_samples_split = [2, 5, 10, 15, 100]\n",
        "# Minimum number of samples required at each leaf node\n",
        "min_samples_leaf = [1, 2, 5, 10]"
      ],
      "execution_count": null,
      "outputs": []
    },
    {
      "cell_type": "code",
      "metadata": {
        "id": "Gk1CeMYtc7iX"
      },
      "source": [
        "\n",
        "# Create the random grid\n",
        "random_grid = {'n_estimators': n_estimators,\n",
        "               'max_features': max_features,\n",
        "               'max_depth': max_depth,\n",
        "               'min_samples_split': min_samples_split,\n",
        "               'min_samples_leaf': min_samples_leaf}\n",
        "\n",
        "print(random_grid)"
      ],
      "execution_count": null,
      "outputs": []
    },
    {
      "cell_type": "code",
      "metadata": {
        "id": "OJLE0iWQdiee"
      },
      "source": [
        "# Use the random grid to search for best hyperparameters\n",
        "# First create the base model to tune\n",
        "rf = RandomForestRegressor()"
      ],
      "execution_count": null,
      "outputs": []
    },
    {
      "cell_type": "code",
      "metadata": {
        "id": "mb7CqH2Ndihs"
      },
      "source": [
        "# Random search of parameters, using 3 fold cross validation, \n",
        "# search across 100 different combinations\n",
        "rf_random = RandomizedSearchCV(estimator = rf, param_distributions = random_grid,scoring='neg_mean_squared_error', n_iter = 10, cv = 5, verbose=2, random_state=42, n_jobs = 1)"
      ],
      "execution_count": null,
      "outputs": []
    },
    {
      "cell_type": "code",
      "metadata": {
        "id": "GgG4ljtBdvuR"
      },
      "source": [
        "\n",
        "rf_random.fit(X_train,y_train)"
      ],
      "execution_count": null,
      "outputs": []
    },
    {
      "cell_type": "code",
      "metadata": {
        "id": "-lZzY4zEeQ9O"
      },
      "source": [
        "rf_random.best_params_"
      ],
      "execution_count": null,
      "outputs": []
    },
    {
      "cell_type": "code",
      "metadata": {
        "id": "0-muJ-yleU5W"
      },
      "source": [
        "predictions=rf_random.predict(X_test)\n",
        "sns.distplot(y_test-predictions)"
      ],
      "execution_count": null,
      "outputs": []
    },
    {
      "cell_type": "code",
      "metadata": {
        "id": "GeROjtYzedvu"
      },
      "source": [
        "\n",
        "print('MAE:', metrics.mean_absolute_error(y_test, predictions))\n",
        "print('MSE:', metrics.mean_squared_error(y_test, predictions))\n",
        "print('RMSE:', np.sqrt(metrics.mean_squared_error(y_test, predictions)))"
      ],
      "execution_count": null,
      "outputs": []
    },
    {
      "cell_type": "code",
      "metadata": {
        "id": "RBo6K5IPjvjC"
      },
      "source": [
        ""
      ],
      "execution_count": null,
      "outputs": []
    },
    {
      "cell_type": "code",
      "metadata": {
        "id": "E0dzc56Jer02"
      },
      "source": [
        "plt.scatter(y_test,predictions)"
      ],
      "execution_count": null,
      "outputs": []
    }
  ]
}